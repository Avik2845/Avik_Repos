{
  "nbformat": 4,
  "nbformat_minor": 0,
  "metadata": {
    "colab": {
      "name": "Untitled1.ipynb",
      "version": "0.3.2",
      "provenance": [],
      "include_colab_link": true
    },
    "kernelspec": {
      "name": "python3",
      "display_name": "Python 3"
    },
    "accelerator": "GPU"
  },
  "cells": [
    {
      "cell_type": "markdown",
      "metadata": {
        "id": "view-in-github",
        "colab_type": "text"
      },
      "source": [
        "<a href=\"https://colab.research.google.com/github/Avik2845/Avik_Repos/blob/master/Product_Reco_EDA_/_imputation.ipynb\" target=\"_parent\"><img src=\"https://colab.research.google.com/assets/colab-badge.svg\" alt=\"Open In Colab\"/></a>"
      ]
    },
    {
      "metadata": {
        "id": "EOxPKDauOJVZ",
        "colab_type": "code",
        "colab": {}
      },
      "cell_type": "code",
      "source": [
        "from google.colab import drive\n",
        "drive.mount('/content/drive/',force_remount=True)\n",
        "mainpath=\"./drive/My Drive/Recommendation_Engine/\"\n"
      ],
      "execution_count": 0,
      "outputs": []
    },
    {
      "metadata": {
        "id": "79QzzkysPHHE",
        "colab_type": "code",
        "colab": {}
      },
      "cell_type": "code",
      "source": [
        "import pandas as pd\n",
        "train=pd.read_csv(mainpath+\"train1.csv\",  index_col=False)"
      ],
      "execution_count": 0,
      "outputs": []
    },
    {
      "metadata": {
        "id": "wy3nrkPtP0el",
        "colab_type": "code",
        "colab": {
          "base_uri": "https://localhost:8080/",
          "height": 146
        },
        "outputId": "e94274f9-e1a9-45d3-a67f-3aaf828f2dbf"
      },
      "cell_type": "code",
      "source": [
        "train.head(1)"
      ],
      "execution_count": 3,
      "outputs": [
        {
          "output_type": "execute_result",
          "data": {
            "text/html": [
              "<div>\n",
              "<style scoped>\n",
              "    .dataframe tbody tr th:only-of-type {\n",
              "        vertical-align: middle;\n",
              "    }\n",
              "\n",
              "    .dataframe tbody tr th {\n",
              "        vertical-align: top;\n",
              "    }\n",
              "\n",
              "    .dataframe thead th {\n",
              "        text-align: right;\n",
              "    }\n",
              "</style>\n",
              "<table border=\"1\" class=\"dataframe\">\n",
              "  <thead>\n",
              "    <tr style=\"text-align: right;\">\n",
              "      <th></th>\n",
              "      <th>Unnamed: 0</th>\n",
              "      <th>fecha_dato</th>\n",
              "      <th>customer_code</th>\n",
              "      <th>sex</th>\n",
              "      <th>age</th>\n",
              "      <th>Joining_date</th>\n",
              "      <th>new_customer_index</th>\n",
              "      <th>customer_seniority</th>\n",
              "      <th>customer_relation_type</th>\n",
              "      <th>foreigner_index</th>\n",
              "      <th>...</th>\n",
              "      <th>Mortgage</th>\n",
              "      <th>Pensions</th>\n",
              "      <th>Loans</th>\n",
              "      <th>Taxes</th>\n",
              "      <th>Credit_Card</th>\n",
              "      <th>Securities</th>\n",
              "      <th>Home_Account</th>\n",
              "      <th>Payroll</th>\n",
              "      <th>Pensions_1</th>\n",
              "      <th>Direct_Debit</th>\n",
              "    </tr>\n",
              "  </thead>\n",
              "  <tbody>\n",
              "    <tr>\n",
              "      <th>0</th>\n",
              "      <td>0</td>\n",
              "      <td>2015-01-28</td>\n",
              "      <td>1375586</td>\n",
              "      <td>H</td>\n",
              "      <td>35.0</td>\n",
              "      <td>2015-01-12</td>\n",
              "      <td>0.0</td>\n",
              "      <td>6.0</td>\n",
              "      <td>A</td>\n",
              "      <td>N</td>\n",
              "      <td>...</td>\n",
              "      <td>0</td>\n",
              "      <td>0</td>\n",
              "      <td>0</td>\n",
              "      <td>0</td>\n",
              "      <td>0</td>\n",
              "      <td>0</td>\n",
              "      <td>0</td>\n",
              "      <td>0.0</td>\n",
              "      <td>0.0</td>\n",
              "      <td>0</td>\n",
              "    </tr>\n",
              "  </tbody>\n",
              "</table>\n",
              "<p>1 rows × 39 columns</p>\n",
              "</div>"
            ],
            "text/plain": [
              "   Unnamed: 0  fecha_dato  customer_code sex   age Joining_date  \\\n",
              "0           0  2015-01-28        1375586   H  35.0   2015-01-12   \n",
              "\n",
              "   new_customer_index  customer_seniority customer_relation_type  \\\n",
              "0                 0.0                 6.0                      A   \n",
              "\n",
              "  foreigner_index      ...      Mortgage Pensions  Loans  Taxes Credit_Card  \\\n",
              "0               N      ...             0        0      0      0           0   \n",
              "\n",
              "   Securities  Home_Account  Payroll  Pensions_1  Direct_Debit  \n",
              "0           0             0      0.0         0.0             0  \n",
              "\n",
              "[1 rows x 39 columns]"
            ]
          },
          "metadata": {
            "tags": []
          },
          "execution_count": 3
        }
      ]
    },
    {
      "metadata": {
        "id": "Msap146OeHY0",
        "colab_type": "text"
      },
      "cell_type": "markdown",
      "source": [
        "import pandas as pd\n",
        "train=pd.read_csv(mainpath+\"train_ver2.csv\",  index_col=False, low_memory = False)"
      ]
    },
    {
      "metadata": {
        "id": "0JCoBixz3AA0",
        "colab_type": "code",
        "colab": {}
      },
      "cell_type": "code",
      "source": [
        "train.drop('Unnamed: 0', axis=1, inplace=True)\n",
        "train.shape\n",
        "train.isna().sum()"
      ],
      "execution_count": 0,
      "outputs": []
    },
    {
      "metadata": {
        "id": "-YiaDcStukRe",
        "colab_type": "code",
        "outputId": "6d442901-1c07-4aca-fcf9-df048c803922",
        "colab": {
          "base_uri": "https://localhost:8080/",
          "height": 170
        }
      },
      "cell_type": "code",
      "source": [
        "print(train.columns.values)"
      ],
      "execution_count": 0,
      "outputs": [
        {
          "output_type": "stream",
          "text": [
            "['fecha_dato' 'customer_code' 'sex' 'age' 'Joining_date'\n",
            " 'new_customer_index' 'customer_seniority' 'customer_relation_type'\n",
            " 'foreigner_index' 'channel' 'province_name' 'activity_index'\n",
            " 'gross_income' 'segmentation' 'Saving_Account' 'Guarantees'\n",
            " 'Current_Accounts' 'Derivada_Account' 'Payroll_Account' 'Junior_Account'\n",
            " 'Más_particular_Account' 'particular_Account' 'particular_Plus_Account'\n",
            " 'Short_term_deposits' 'Medium_term_deposits' 'Long_term_deposits'\n",
            " 'e_account' 'Funds' 'Mortgage' 'Pensions' 'Loans' 'Taxes' 'Credit_Card'\n",
            " 'Securities' 'Home_Account' 'Payroll' 'Pensions_1' 'Direct_Debit']\n"
          ],
          "name": "stdout"
        }
      ]
    },
    {
      "metadata": {
        "id": "skQffQWR68hx",
        "colab_type": "text"
      },
      "cell_type": "markdown",
      "source": [
        "from fancyimpute import IterativeImputer \n",
        "imputer = IterativeImputer()\n",
        "\n",
        "train_filled = imputer.fit_transform(train)"
      ]
    },
    {
      "metadata": {
        "id": "76Ts3IEHCC2X",
        "colab_type": "code",
        "colab": {}
      },
      "cell_type": "code",
      "source": [
        "train[\"gross_income\"]=train.groupby(\"province_name\")[\"gross_income\"].apply(lambda m: m.fillna(m.median()))"
      ],
      "execution_count": 0,
      "outputs": []
    },
    {
      "metadata": {
        "id": "yuuZ7zIKI8c_",
        "colab_type": "code",
        "colab": {}
      },
      "cell_type": "code",
      "source": [
        "train.isna().sum()"
      ],
      "execution_count": 0,
      "outputs": []
    },
    {
      "metadata": {
        "id": "o3GOTY7-Crl1",
        "colab_type": "code",
        "colab": {}
      },
      "cell_type": "code",
      "source": [
        " feature_matrix, feature_defs = ft.dfs(entityset=es,target_entity=\"customers\",agg_primitives=[\"count\"],\n",
        "   ...:                                       trans_primitives=[\"month\"],\n",
        "   ...:                                       max_depth=1)"
      ],
      "execution_count": 0,
      "outputs": []
    }
  ]
}