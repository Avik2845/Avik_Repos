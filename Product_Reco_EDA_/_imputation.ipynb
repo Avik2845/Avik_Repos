{
  "nbformat": 4,
  "nbformat_minor": 0,
  "metadata": {
    "colab": {
      "name": "Untitled1.ipynb",
      "version": "0.3.2",
      "provenance": [],
      "include_colab_link": true
    },
    "kernelspec": {
      "name": "python3",
      "display_name": "Python 3"
    },
    "accelerator": "GPU"
  },
  "cells": [
    {
      "cell_type": "markdown",
      "metadata": {
        "id": "view-in-github",
        "colab_type": "text"
      },
      "source": [
        "<a href=\"https://colab.research.google.com/github/Avik2845/Avik_Repos/blob/master/Product_Reco_EDA_/_imputation.ipynb\" target=\"_parent\"><img src=\"https://colab.research.google.com/assets/colab-badge.svg\" alt=\"Open In Colab\"/></a>"
      ]
    },
    {
      "metadata": {
        "id": "EOxPKDauOJVZ",
        "colab_type": "code",
        "colab": {}
      },
      "cell_type": "code",
      "source": [
        "from google.colab import drive\n",
        "drive.mount('/content/drive/',force_remount=True)\n",
        "mainpath=\"./drive/My Drive/Recommendation_Engine/\"\n"
      ],
      "execution_count": 0,
      "outputs": []
    },
    {
      "metadata": {
        "id": "79QzzkysPHHE",
        "colab_type": "code",
        "colab": {}
      },
      "cell_type": "code",
      "source": [
        "import pandas as pd\n",
        "train=pd.read_csv(mainpath+\"train1.csv\",  index_col=False)\n",
        "train.head(1)"
      ],
      "execution_count": 0,
      "outputs": []
    },
    {
      "metadata": {
        "id": "Msap146OeHY0",
        "colab_type": "text"
      },
      "cell_type": "markdown",
      "source": [
        "import pandas as pd\n",
        "train=pd.read_csv(mainpath+\"train_ver2.csv\",  index_col=False, low_memory = False)"
      ]
    },
    {
      "metadata": {
        "id": "0JCoBixz3AA0",
        "colab_type": "code",
        "colab": {}
      },
      "cell_type": "code",
      "source": [
        "train.drop('Unnamed: 0', axis=1, inplace=True)\n",
        "train.isna().sum()"
      ],
      "execution_count": 0,
      "outputs": []
    },
    {
      "metadata": {
        "id": "qOfk3Q3V9mIN",
        "colab_type": "code",
        "colab": {}
      },
      "cell_type": "code",
      "source": [
        "print(train.columns.values)"
      ],
      "execution_count": 0,
      "outputs": []
    },
    {
      "metadata": {
        "id": "76Ts3IEHCC2X",
        "colab_type": "code",
        "colab": {}
      },
      "cell_type": "code",
      "source": [
        "train[\"gross_income\"]=train.groupby(['province_name'])[\"gross_income\"].apply(lambda m: m.fillna(m.median()))"
      ],
      "execution_count": 0,
      "outputs": []
    },
    {
      "metadata": {
        "id": "Meu3Vx2KBqKF",
        "colab_type": "text"
      },
      "cell_type": "markdown",
      "source": [
        "train[\"gross_income_province\"] = train.groupby(['province_name'])[\"gross_income\"].apply(lambda m: m.fillna(m.median()))\n",
        "train[\"gross_income_sex\"] = train.groupby([ 'sex'])[\"gross_income\"].apply(lambda m: m.fillna(m.median()))\n",
        "train[\"gross_income_seniority\"] = train.groupby(['customer_seniority'])[\"gross_income\"].apply(lambda m:m.fillna(m.median()))\n",
        "\n",
        "```\n",
        "# This is formatted as code\n",
        "```\n",
        "\n"
      ]
    },
    {
      "metadata": {
        "id": "yuuZ7zIKI8c_",
        "colab_type": "code",
        "colab": {}
      },
      "cell_type": "code",
      "source": [
        "train.isna().sum()"
      ],
      "execution_count": 0,
      "outputs": []
    },
    {
      "metadata": {
        "id": "kIt7kYMTYBVm",
        "colab_type": "text"
      },
      "cell_type": "markdown",
      "source": [
        "train.sort_values(by=['fecha_dato'], inplace=True, ascending=True)\n",
        "\n",
        "\n",
        "train.iloc[:,15:38].sum(axis = 0)\n",
        "```\n",
        "# This is formatted as code\n",
        "```\n",
        "\n"
      ]
    },
    {
      "metadata": {
        "id": "43HgaMTydre3",
        "colab_type": "code",
        "colab": {}
      },
      "cell_type": "code",
      "source": [
        "import matplotlib.pyplot as plt\n",
        "import seaborn as sns"
      ],
      "execution_count": 0,
      "outputs": []
    },
    {
      "metadata": {
        "id": "XiMeuT20l1Eo",
        "colab_type": "code",
        "colab": {}
      },
      "cell_type": "code",
      "source": [
        "var = train.groupby('segmentation').segmentation.count()\n",
        "fig = plt.figure()\n",
        "ax1 = fig.add_subplot(1,1,1)\n",
        "var.plot(kind='bar')\n",
        "var"
      ],
      "execution_count": 0,
      "outputs": []
    },
    {
      "metadata": {
        "id": "FZaleBtxo0t4",
        "colab_type": "code",
        "colab": {}
      },
      "cell_type": "code",
      "source": [
        "var = train.groupby('segmentation').Payroll.sum()\n",
        "fig = plt.figure()\n",
        "ax1 = fig.add_subplot(1,1,1)\n",
        "var.plot(kind='bar')"
      ],
      "execution_count": 0,
      "outputs": []
    },
    {
      "metadata": {
        "id": "490RtClLw0bR",
        "colab_type": "code",
        "colab": {}
      },
      "cell_type": "code",
      "source": [
        "fig = plt.figure()\n",
        "ax = fig.add_subplot(1,1,1)\n",
        "ax.scatter(train['age'].unique(),train.groupby('age').gross_income.sum()) #You can also add more variables here to represent color and size.\n",
        "plt.show()"
      ],
      "execution_count": 0,
      "outputs": []
    },
    {
      "metadata": {
        "id": "KL2ONxagzZ10",
        "colab_type": "code",
        "colab": {}
      },
      "cell_type": "code",
      "source": [
        "print(train.columns.values)"
      ],
      "execution_count": 0,
      "outputs": []
    },
    {
      "metadata": {
        "id": "7_HJVxiKy495",
        "colab_type": "code",
        "colab": {}
      },
      "cell_type": "code",
      "source": [
        "var = train.groupby('customer_seniority').gross_income.mean()\n",
        "fig = plt.figure()\n",
        "ax1 = fig.add_subplot(1,1,1)\n",
        "var.plot(kind='bar')\n"
      ],
      "execution_count": 0,
      "outputs": []
    },
    {
      "metadata": {
        "id": "KI1GuEIin23K",
        "colab_type": "code",
        "colab": {}
      },
      "cell_type": "code",
      "source": [
        "var = train.groupby(['segmentation','Payroll']).gross_income.sum()\n",
        "var.unstack().plot(kind='bar',stacked=True,  color=['red','green'], grid=False)"
      ],
      "execution_count": 0,
      "outputs": []
    },
    {
      "metadata": {
        "id": "5nUVF7ZyYmt4",
        "colab_type": "text"
      },
      "cell_type": "markdown",
      "source": [
        "EDA on sampled data"
      ]
    },
    {
      "metadata": {
        "id": "nPK-NBy3YuiC",
        "colab_type": "code",
        "colab": {}
      },
      "cell_type": "code",
      "source": [
        "train.shape[0]"
      ],
      "execution_count": 0,
      "outputs": []
    },
    {
      "metadata": {
        "id": "nmm0h11_cm9_",
        "colab_type": "code",
        "colab": {}
      },
      "cell_type": "code",
      "source": [
        "df = train.sample(n = 1339115, random_state= 1)"
      ],
      "execution_count": 0,
      "outputs": []
    },
    {
      "metadata": {
        "id": "yg0WOakWZcfK",
        "colab_type": "code",
        "colab": {}
      },
      "cell_type": "code",
      "source": [
        "df = train.head(1339115)"
      ],
      "execution_count": 0,
      "outputs": []
    },
    {
      "metadata": {
        "id": "NRqPnNE8V1zS",
        "colab_type": "code",
        "colab": {}
      },
      "cell_type": "code",
      "source": [
        "len(df['customer_code'].unique().tolist())"
      ],
      "execution_count": 0,
      "outputs": []
    },
    {
      "metadata": {
        "id": "CJEtNySJZApB",
        "colab_type": "code",
        "colab": {}
      },
      "cell_type": "code",
      "source": [
        "df.sort_values(by=['fecha_dato'], inplace=True, ascending=True)"
      ],
      "execution_count": 0,
      "outputs": []
    },
    {
      "metadata": {
        "id": "bRhfQuAUaqzd",
        "colab_type": "code",
        "colab": {}
      },
      "cell_type": "code",
      "source": [
        "df.iloc[:,15:38].sum(axis = 0)"
      ],
      "execution_count": 0,
      "outputs": []
    },
    {
      "metadata": {
        "id": "KRfztJGdZMiJ",
        "colab_type": "code",
        "colab": {}
      },
      "cell_type": "code",
      "source": [
        "print(df.columns.values)"
      ],
      "execution_count": 0,
      "outputs": []
    },
    {
      "metadata": {
        "id": "tUX2rgaTZhzf",
        "colab_type": "code",
        "colab": {}
      },
      "cell_type": "code",
      "source": [
        "var = train.groupby(['province_name'])[\"gross_income\"].sum()\n",
        "fig = plt.figure()\n",
        "ax1 = fig.add_subplot(1,1,1)\n",
        "var.plot(kind='bar')"
      ],
      "execution_count": 0,
      "outputs": []
    },
    {
      "metadata": {
        "id": "ADDNQV-lbm9J",
        "colab_type": "code",
        "colab": {}
      },
      "cell_type": "code",
      "source": [
        "train.groupby(['province_name'])[\"gross_income\"].sum()"
      ],
      "execution_count": 0,
      "outputs": []
    },
    {
      "metadata": {
        "id": "suwjEvHXQ7ZI",
        "colab_type": "text"
      },
      "cell_type": "markdown",
      "source": [
        "##########################################################"
      ]
    },
    {
      "metadata": {
        "id": "mYzMVk75tOqV",
        "colab_type": "text"
      },
      "cell_type": "markdown",
      "source": [
        "New Mohit's sampled dat\n"
      ]
    },
    {
      "metadata": {
        "id": "3qFfs0_vHCpI",
        "colab_type": "code",
        "colab": {}
      },
      "cell_type": "code",
      "source": [
        "from google.colab import drive\n",
        "drive.mount('/content/drive/',force_remount=True)\n",
        "mainpath=\"./drive/My Drive/Recommendation_Engine/\""
      ],
      "execution_count": 0,
      "outputs": []
    },
    {
      "metadata": {
        "id": "1fifFuApcOhw",
        "colab_type": "code",
        "colab": {}
      },
      "cell_type": "code",
      "source": [
        "import pandas as pd\n",
        "train=pd.read_csv(mainpath+\"train3.csv\")\n",
        "train.drop('Unnamed: 0', axis=1, inplace=True)\n",
        "train.head(1)"
      ],
      "execution_count": 0,
      "outputs": []
    },
    {
      "metadata": {
        "id": "7aXf9aXF_S0l",
        "colab_type": "code",
        "colab": {}
      },
      "cell_type": "code",
      "source": [
        "print(train.columns.values)"
      ],
      "execution_count": 0,
      "outputs": []
    },
    {
      "metadata": {
        "id": "1lwc58ZuthXt",
        "colab_type": "code",
        "colab": {}
      },
      "cell_type": "code",
      "source": [
        "df = train.iloc[:,38:62]"
      ],
      "execution_count": 0,
      "outputs": []
    },
    {
      "metadata": {
        "id": "Au22n0vI_f70",
        "colab_type": "code",
        "colab": {}
      },
      "cell_type": "code",
      "source": [
        "print(df.columns.values)"
      ],
      "execution_count": 0,
      "outputs": []
    },
    {
      "metadata": {
        "id": "opd2ujT0OZ7D",
        "colab_type": "code",
        "colab": {}
      },
      "cell_type": "code",
      "source": [
        "df_prop = df.iloc[:,[0,2,4,5,6,7,8,11,12,13,15,17,18,19,21,22,23]]\n",
        "df_inv_prop = df.iloc[:,[1,3,9,10,14,16,20]]"
      ],
      "execution_count": 0,
      "outputs": []
    },
    {
      "metadata": {
        "id": "hyOStFjd_lQ2",
        "colab_type": "code",
        "colab": {}
      },
      "cell_type": "code",
      "source": [
        "df_prop.shape"
      ],
      "execution_count": 0,
      "outputs": []
    },
    {
      "metadata": {
        "id": "a2xvgL4CPs6T",
        "colab_type": "code",
        "colab": {}
      },
      "cell_type": "code",
      "source": [
        "df_inv_prop.shape"
      ],
      "execution_count": 0,
      "outputs": []
    },
    {
      "metadata": {
        "id": "EhcevVobAGk7",
        "colab_type": "code",
        "colab": {}
      },
      "cell_type": "code",
      "source": [
        "from scipy.spatial.distance import pdist,squareform"
      ],
      "execution_count": 0,
      "outputs": []
    },
    {
      "metadata": {
        "id": "gv4SECQtQe70",
        "colab_type": "text"
      },
      "cell_type": "markdown",
      "source": [
        "##############UBCF"
      ]
    },
    {
      "metadata": {
        "id": "1Gb3naR7QdK2",
        "colab_type": "code",
        "colab": {}
      },
      "cell_type": "code",
      "source": [
        "dist_inv_prop = pdist(df_prop, metric='euclidean')\n",
        "dist_prop = pdist(df_prop, metric='euclidean')\n"
      ],
      "execution_count": 0,
      "outputs": []
    },
    {
      "metadata": {
        "id": "Mw0wiYwjN9jj",
        "colab_type": "code",
        "colab": {}
      },
      "cell_type": "code",
      "source": [
        "sim_prop = squareform(dist_prop)\n",
        "sim_inv_prop = squareform(dist_inv_prop)"
      ],
      "execution_count": 0,
      "outputs": []
    },
    {
      "metadata": {
        "id": "gIpU5HqoQn0P",
        "colab_type": "text"
      },
      "cell_type": "markdown",
      "source": [
        "###################### IBCF"
      ]
    },
    {
      "metadata": {
        "id": "xS7gpsyiQuEL",
        "colab_type": "code",
        "colab": {}
      },
      "cell_type": "code",
      "source": [
        "dist_cos = pdist(df.T, metric = 'cosine')\n",
        "sim_cos = squareform(dist_cos)"
      ],
      "execution_count": 0,
      "outputs": []
    },
    {
      "metadata": {
        "id": "DJfdI9pLRf2B",
        "colab_type": "code",
        "colab": {}
      },
      "cell_type": "code",
      "source": [
        "dist_eucl = pdist(df.T, metric = 'euclidean')\n",
        "sim_eucl = squareform(dist_eucl)"
      ],
      "execution_count": 0,
      "outputs": []
    },
    {
      "metadata": {
        "id": "Phm3AoJHKLI4",
        "colab_type": "code",
        "colab": {}
      },
      "cell_type": "code",
      "source": [
        "sim_eucl"
      ],
      "execution_count": 0,
      "outputs": []
    },
    {
      "metadata": {
        "id": "M25UdTGmKLpv",
        "colab_type": "code",
        "colab": {}
      },
      "cell_type": "code",
      "source": [
        "sim_cos"
      ],
      "execution_count": 0,
      "outputs": []
    },
    {
      "metadata": {
        "id": "5vF4d3QXTYVn",
        "colab_type": "code",
        "colab": {}
      },
      "cell_type": "code",
      "source": [
        ""
      ],
      "execution_count": 0,
      "outputs": []
    }
  ]
}