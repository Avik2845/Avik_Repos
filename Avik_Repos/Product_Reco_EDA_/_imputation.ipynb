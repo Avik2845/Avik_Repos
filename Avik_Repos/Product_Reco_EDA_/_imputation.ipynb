{
  "nbformat": 4,
  "nbformat_minor": 0,
  "metadata": {
    "colab": {
      "name": "Untitled1.ipynb",
      "version": "0.3.2",
      "provenance": [],
      "include_colab_link": true
    },
    "kernelspec": {
      "name": "python3",
      "display_name": "Python 3"
    },
    "accelerator": "GPU"
  },
  "cells": [
    {
      "cell_type": "markdown",
      "metadata": {
        "id": "view-in-github",
        "colab_type": "text"
      },
      "source": [
        "<a href=\"https://colab.research.google.com/github/Avik2845/Avik_Repos/blob/master/Avik_Repos/Product_Reco_EDA_/_imputation.ipynb\" target=\"_parent\"><img src=\"https://colab.research.google.com/assets/colab-badge.svg\" alt=\"Open In Colab\"/></a>"
      ]
    },
    {
      "metadata": {
        "id": "EOxPKDauOJVZ",
        "colab_type": "code",
        "colab": {}
      },
      "cell_type": "code",
      "source": [
        "from google.colab import drive\n",
        "drive.mount('/content/drive/',force_remount=True)\n",
        "mainpath=\"./drive/My Drive/Recommendation_Engine/\"\n"
      ],
      "execution_count": 0,
      "outputs": []
    },
    {
      "metadata": {
        "id": "79QzzkysPHHE",
        "colab_type": "code",
        "colab": {}
      },
      "cell_type": "code",
      "source": [
        "import pandas as pd\n",
        "train=pd.read_csv(mainpath+\"train1.csv\",  index_col=False)\n",
        "train.head(1)"
      ],
      "execution_count": 0,
      "outputs": []
    },
    {
      "metadata": {
        "id": "Msap146OeHY0",
        "colab_type": "text"
      },
      "cell_type": "markdown",
      "source": [
        "import pandas as pd\n",
        "train=pd.read_csv(mainpath+\"train_ver2.csv\",  index_col=False, low_memory = False)"
      ]
    },
    {
      "metadata": {
        "id": "0JCoBixz3AA0",
        "colab_type": "code",
        "colab": {}
      },
      "cell_type": "code",
      "source": [
        "train.drop('Unnamed: 0', axis=1, inplace=True)\n",
        "train.isna().sum()"
      ],
      "execution_count": 0,
      "outputs": []
    },
    {
      "metadata": {
        "id": "qOfk3Q3V9mIN",
        "colab_type": "code",
        "colab": {}
      },
      "cell_type": "code",
      "source": [
        "print(train.columns.values)"
      ],
      "execution_count": 0,
      "outputs": []
    },
    {
      "metadata": {
        "id": "76Ts3IEHCC2X",
        "colab_type": "code",
        "colab": {}
      },
      "cell_type": "code",
      "source": [
        "train[\"gross_income\"]=train.groupby(['province_name'])[\"gross_income\"].apply(lambda m: m.fillna(m.median()))"
      ],
      "execution_count": 0,
      "outputs": []
    },
    {
      "metadata": {
        "id": "Meu3Vx2KBqKF",
        "colab_type": "text"
      },
      "cell_type": "markdown",
      "source": [
        "train[\"gross_income_province\"] = train.groupby(['province_name'])[\"gross_income\"].apply(lambda m: m.fillna(m.median()))\n",
        "train[\"gross_income_sex\"] = train.groupby([ 'sex'])[\"gross_income\"].apply(lambda m: m.fillna(m.median()))\n",
        "train[\"gross_income_seniority\"] = train.groupby(['customer_seniority'])[\"gross_income\"].apply(lambda m:m.fillna(m.median()))\n",
        "\n",
        "```\n",
        "# This is formatted as code\n",
        "```\n",
        "\n"
      ]
    },
    {
      "metadata": {
        "id": "yuuZ7zIKI8c_",
        "colab_type": "code",
        "colab": {}
      },
      "cell_type": "code",
      "source": [
        "train.isna().sum()"
      ],
      "execution_count": 0,
      "outputs": []
    },
    {
      "metadata": {
        "id": "kIt7kYMTYBVm",
        "colab_type": "text"
      },
      "cell_type": "markdown",
      "source": [
        "train.sort_values(by=['fecha_dato'], inplace=True, ascending=True)\n",
        "\n",
        "\n",
        "train.iloc[:,15:38].sum(axis = 0)\n",
        "```\n",
        "# This is formatted as code\n",
        "```\n",
        "\n"
      ]
    },
    {
      "metadata": {
        "id": "43HgaMTydre3",
        "colab_type": "code",
        "colab": {}
      },
      "cell_type": "code",
      "source": [
        "import matplotlib.pyplot as plt\n",
        "import seaborn as sns"
      ],
      "execution_count": 0,
      "outputs": []
    },
    {
      "metadata": {
        "id": "XiMeuT20l1Eo",
        "colab_type": "code",
        "colab": {}
      },
      "cell_type": "code",
      "source": [
        "var = train.groupby('segmentation').segmentation.count()\n",
        "fig = plt.figure()\n",
        "ax1 = fig.add_subplot(1,1,1)\n",
        "var.plot(kind='bar')\n",
        "var"
      ],
      "execution_count": 0,
      "outputs": []
    },
    {
      "metadata": {
        "id": "FZaleBtxo0t4",
        "colab_type": "code",
        "colab": {}
      },
      "cell_type": "code",
      "source": [
        "var = train.groupby('segmentation').Payroll.sum()\n",
        "fig = plt.figure()\n",
        "ax1 = fig.add_subplot(1,1,1)\n",
        "var.plot(kind='bar')"
      ],
      "execution_count": 0,
      "outputs": []
    },
    {
      "metadata": {
        "id": "490RtClLw0bR",
        "colab_type": "code",
        "colab": {}
      },
      "cell_type": "code",
      "source": [
        "fig = plt.figure()\n",
        "ax = fig.add_subplot(1,1,1)\n",
        "ax.scatter(train['age'].unique(),train.groupby('age').gross_income.sum()) #You can also add more variables here to represent color and size.\n",
        "plt.show()"
      ],
      "execution_count": 0,
      "outputs": []
    },
    {
      "metadata": {
        "id": "KL2ONxagzZ10",
        "colab_type": "code",
        "colab": {}
      },
      "cell_type": "code",
      "source": [
        "print(train.columns.values)"
      ],
      "execution_count": 0,
      "outputs": []
    },
    {
      "metadata": {
        "id": "7_HJVxiKy495",
        "colab_type": "code",
        "colab": {}
      },
      "cell_type": "code",
      "source": [
        "var = train.groupby('customer_seniority').gross_income.mean()\n",
        "fig = plt.figure()\n",
        "ax1 = fig.add_subplot(1,1,1)\n",
        "var.plot(kind='bar')\n"
      ],
      "execution_count": 0,
      "outputs": []
    },
    {
      "metadata": {
        "id": "KI1GuEIin23K",
        "colab_type": "code",
        "colab": {}
      },
      "cell_type": "code",
      "source": [
        "var = train.groupby(['segmentation','Payroll']).gross_income.sum()\n",
        "var.unstack().plot(kind='bar',stacked=True,  color=['red','green'], grid=False)"
      ],
      "execution_count": 0,
      "outputs": []
    },
    {
      "metadata": {
        "id": "5nUVF7ZyYmt4",
        "colab_type": "text"
      },
      "cell_type": "markdown",
      "source": [
        "EDA on sampled data"
      ]
    },
    {
      "metadata": {
        "id": "nPK-NBy3YuiC",
        "colab_type": "code",
        "colab": {}
      },
      "cell_type": "code",
      "source": [
        "train.shape[0]"
      ],
      "execution_count": 0,
      "outputs": []
    },
    {
      "metadata": {
        "id": "nmm0h11_cm9_",
        "colab_type": "code",
        "colab": {}
      },
      "cell_type": "code",
      "source": [
        "df = train.sample(n = 1339115, random_state= 1)"
      ],
      "execution_count": 0,
      "outputs": []
    },
    {
      "metadata": {
        "id": "yg0WOakWZcfK",
        "colab_type": "code",
        "colab": {}
      },
      "cell_type": "code",
      "source": [
        "df = train.head(1339115)"
      ],
      "execution_count": 0,
      "outputs": []
    },
    {
      "metadata": {
        "id": "NRqPnNE8V1zS",
        "colab_type": "code",
        "colab": {}
      },
      "cell_type": "code",
      "source": [
        "len(df['customer_code'].unique().tolist())"
      ],
      "execution_count": 0,
      "outputs": []
    },
    {
      "metadata": {
        "id": "CJEtNySJZApB",
        "colab_type": "code",
        "colab": {}
      },
      "cell_type": "code",
      "source": [
        "df.sort_values(by=['fecha_dato'], inplace=True, ascending=True)"
      ],
      "execution_count": 0,
      "outputs": []
    },
    {
      "metadata": {
        "id": "bRhfQuAUaqzd",
        "colab_type": "code",
        "colab": {}
      },
      "cell_type": "code",
      "source": [
        "df.iloc[:,15:38].sum(axis = 0)"
      ],
      "execution_count": 0,
      "outputs": []
    },
    {
      "metadata": {
        "id": "KRfztJGdZMiJ",
        "colab_type": "code",
        "colab": {}
      },
      "cell_type": "code",
      "source": [
        "print(df.columns.values)"
      ],
      "execution_count": 0,
      "outputs": []
    },
    {
      "metadata": {
        "id": "tUX2rgaTZhzf",
        "colab_type": "code",
        "colab": {}
      },
      "cell_type": "code",
      "source": [
        "var = train.groupby(['province_name'])[\"gross_income\"].sum()\n",
        "fig = plt.figure()\n",
        "ax1 = fig.add_subplot(1,1,1)\n",
        "var.plot(kind='bar')"
      ],
      "execution_count": 0,
      "outputs": []
    },
    {
      "metadata": {
        "id": "ADDNQV-lbm9J",
        "colab_type": "code",
        "colab": {}
      },
      "cell_type": "code",
      "source": [
        "train.groupby(['province_name'])[\"gross_income\"].sum()"
      ],
      "execution_count": 0,
      "outputs": []
    },
    {
      "metadata": {
        "id": "mYzMVk75tOqV",
        "colab_type": "text"
      },
      "cell_type": "markdown",
      "source": [
        "New Mohit's sampled dat\n"
      ]
    },
    {
      "metadata": {
        "id": "3qFfs0_vHCpI",
        "colab_type": "code",
        "colab": {}
      },
      "cell_type": "code",
      "source": [
        "from google.colab import drive\n",
        "drive.mount('/content/drive/',force_remount=True)\n",
        "mainpath=\"./drive/My Drive/Recommendation_Engine/\""
      ],
      "execution_count": 0,
      "outputs": []
    },
    {
      "metadata": {
        "id": "1fifFuApcOhw",
        "colab_type": "code",
        "colab": {
          "base_uri": "https://localhost:8080/",
          "height": 126
        },
        "outputId": "89b9296e-bc6e-4f2a-d04c-c4acf74b1896"
      },
      "cell_type": "code",
      "source": [
        "import pandas as pd\n",
        "train=pd.read_csv(mainpath+\"train3.csv\")\n",
        "train.drop('Unnamed: 0', axis=1, inplace=True)\n",
        "train.head(1)"
      ],
      "execution_count": 2,
      "outputs": [
        {
          "output_type": "execute_result",
          "data": {
            "text/html": [
              "<div>\n",
              "<style scoped>\n",
              "    .dataframe tbody tr th:only-of-type {\n",
              "        vertical-align: middle;\n",
              "    }\n",
              "\n",
              "    .dataframe tbody tr th {\n",
              "        vertical-align: top;\n",
              "    }\n",
              "\n",
              "    .dataframe thead th {\n",
              "        text-align: right;\n",
              "    }\n",
              "</style>\n",
              "<table border=\"1\" class=\"dataframe\">\n",
              "  <thead>\n",
              "    <tr style=\"text-align: right;\">\n",
              "      <th></th>\n",
              "      <th>fecha_dato</th>\n",
              "      <th>customer_code</th>\n",
              "      <th>sex</th>\n",
              "      <th>age</th>\n",
              "      <th>Joining_date</th>\n",
              "      <th>new_customer_index</th>\n",
              "      <th>customer_seniority</th>\n",
              "      <th>customer_relation_type</th>\n",
              "      <th>foreigner_index</th>\n",
              "      <th>channel</th>\n",
              "      <th>...</th>\n",
              "      <th>Mortgage_Cumulative</th>\n",
              "      <th>Pensions_Cumulative</th>\n",
              "      <th>Loans_Cumulative</th>\n",
              "      <th>Taxes_Cumulative</th>\n",
              "      <th>Credit_Card_Cumulative</th>\n",
              "      <th>Securities_Cumulative</th>\n",
              "      <th>Home_Account_Cumulative</th>\n",
              "      <th>Payroll_Cumulative</th>\n",
              "      <th>Pensions_1_Cumulative</th>\n",
              "      <th>Direct_Debit_Cumulative</th>\n",
              "    </tr>\n",
              "  </thead>\n",
              "  <tbody>\n",
              "    <tr>\n",
              "      <th>0</th>\n",
              "      <td>2016-02-28</td>\n",
              "      <td>15898</td>\n",
              "      <td>H</td>\n",
              "      <td>60.0</td>\n",
              "      <td>2000-01-26</td>\n",
              "      <td>0.0</td>\n",
              "      <td>253.0</td>\n",
              "      <td>I</td>\n",
              "      <td>N</td>\n",
              "      <td>KAT</td>\n",
              "      <td>...</td>\n",
              "      <td>0</td>\n",
              "      <td>0</td>\n",
              "      <td>0</td>\n",
              "      <td>0</td>\n",
              "      <td>0</td>\n",
              "      <td>0</td>\n",
              "      <td>0</td>\n",
              "      <td>0.0</td>\n",
              "      <td>0.0</td>\n",
              "      <td>0</td>\n",
              "    </tr>\n",
              "  </tbody>\n",
              "</table>\n",
              "<p>1 rows × 62 columns</p>\n",
              "</div>"
            ],
            "text/plain": [
              "   fecha_dato  customer_code sex   age Joining_date  new_customer_index  \\\n",
              "0  2016-02-28          15898   H  60.0   2000-01-26                 0.0   \n",
              "\n",
              "   customer_seniority customer_relation_type foreigner_index channel  \\\n",
              "0               253.0                      I               N     KAT   \n",
              "\n",
              "            ...            Mortgage_Cumulative  Pensions_Cumulative  \\\n",
              "0           ...                              0                    0   \n",
              "\n",
              "   Loans_Cumulative Taxes_Cumulative  Credit_Card_Cumulative  \\\n",
              "0                 0                0                       0   \n",
              "\n",
              "   Securities_Cumulative  Home_Account_Cumulative  Payroll_Cumulative  \\\n",
              "0                      0                        0                 0.0   \n",
              "\n",
              "   Pensions_1_Cumulative  Direct_Debit_Cumulative  \n",
              "0                    0.0                        0  \n",
              "\n",
              "[1 rows x 62 columns]"
            ]
          },
          "metadata": {
            "tags": []
          },
          "execution_count": 2
        }
      ]
    },
    {
      "metadata": {
        "id": "7aXf9aXF_S0l",
        "colab_type": "code",
        "colab": {}
      },
      "cell_type": "code",
      "source": [
        "print(train..columns.values)"
      ],
      "execution_count": 0,
      "outputs": []
    },
    {
      "metadata": {
        "id": "1lwc58ZuthXt",
        "colab_type": "code",
        "colab": {}
      },
      "cell_type": "code",
      "source": [
        "df = train.iloc[:,38:62]"
      ],
      "execution_count": 0,
      "outputs": []
    },
    {
      "metadata": {
        "id": "Au22n0vI_f70",
        "colab_type": "code",
        "colab": {}
      },
      "cell_type": "code",
      "source": [
        "print(df.columns.values)"
      ],
      "execution_count": 0,
      "outputs": []
    },
    {
      "metadata": {
        "id": "hyOStFjd_lQ2",
        "colab_type": "code",
        "colab": {}
      },
      "cell_type": "code",
      "source": [
        "df.shape"
      ],
      "execution_count": 0,
      "outputs": []
    },
    {
      "metadata": {
        "id": "EhcevVobAGk7",
        "colab_type": "code",
        "colab": {}
      },
      "cell_type": "code",
      "source": [
        "from scipy.spatial.distance import pdist,squareform\n",
        "dist = pdist(df.T, metric='euclidean')\n",
        "sim = squareform(dist)\n"
      ],
      "execution_count": 0,
      "outputs": []
    },
    {
      "metadata": {
        "id": "Phm3AoJHKLI4",
        "colab_type": "code",
        "colab": {
          "base_uri": "https://localhost:8080/",
          "height": 34
        },
        "outputId": "e68a379c-520d-4f5f-b47b-07e7f072aa36"
      },
      "cell_type": "code",
      "source": [
        "sim.shape"
      ],
      "execution_count": 9,
      "outputs": [
        {
          "output_type": "execute_result",
          "data": {
            "text/plain": [
              "(24, 24)"
            ]
          },
          "metadata": {
            "tags": []
          },
          "execution_count": 9
        }
      ]
    },
    {
      "metadata": {
        "id": "M25UdTGmKLpv",
        "colab_type": "code",
        "colab": {}
      },
      "cell_type": "code",
      "source": [
        ""
      ],
      "execution_count": 0,
      "outputs": []
    }
  ]
}